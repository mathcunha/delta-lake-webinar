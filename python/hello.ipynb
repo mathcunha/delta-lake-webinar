{
 "cells": [
  {
   "cell_type": "code",
   "execution_count": 1,
   "metadata": {},
   "outputs": [],
   "source": [
    "from pyspark.sql import SparkSession\n",
    "import os"
   ]
  },
  {
   "cell_type": "code",
   "execution_count": 2,
   "metadata": {},
   "outputs": [],
   "source": [
    "os.environ['JAVA_HOME']=\"C:\\Program Files\\Java\\jdk1.8.0_251\""
   ]
  },
  {
   "cell_type": "markdown",
   "metadata": {},
   "source": [
    "C:\\Users\\chell\\anaconda3\\share\\jupyter\\kernels\\python3\n",
    "\"env\": {\n",
    " \"PYSPARK_SUBMIT_ARGS\": \"--packages io.delta:delta-core_2.11:0.5.0 pyspark-shell\"\n",
    "\t},"
   ]
  },
  {
   "cell_type": "code",
   "execution_count": 3,
   "metadata": {},
   "outputs": [
    {
     "name": "stdout",
     "output_type": "stream",
     "text": [
      "C:\\Program Files\\Java\\jdk1.8.0_251\n"
     ]
    }
   ],
   "source": [
    "print(os.environ['JAVA_HOME'])"
   ]
  },
  {
   "cell_type": "code",
   "execution_count": 4,
   "metadata": {},
   "outputs": [],
   "source": [
    "spark = SparkSession \\\n",
    "    .builder \\\n",
    "    .appName(\"Python Spark SQL basic example\") \\\n",
    "    .config(\"spark.some.config.option\", \"some-value\") \\\n",
    "    .config (\"spark.driver.host\", \"192.168.0.143\")\\\n",
    "    .master(\"spark://192.168.33.10:7077\") \\\n",
    "    .getOrCreate()"
   ]
  },
  {
   "cell_type": "code",
   "execution_count": 5,
   "metadata": {},
   "outputs": [],
   "source": [
    "df = spark.read.json(\"hdfs://192.168.33.10:9000/user/vagrant/delta/health_tracker_data_2020_02.json\")"
   ]
  },
  {
   "cell_type": "code",
   "execution_count": 6,
   "metadata": {},
   "outputs": [],
   "source": [
    "df.createOrReplaceTempView(\"health_tracker\")"
   ]
  },
  {
   "cell_type": "code",
   "execution_count": 7,
   "metadata": {},
   "outputs": [
    {
     "name": "stdout",
     "output_type": "stream",
     "text": [
      "+--------+\n",
      "|count(1)|\n",
      "+--------+\n",
      "|     696|\n",
      "|     696|\n",
      "|     696|\n",
      "|     696|\n",
      "|     601|\n",
      "+--------+\n",
      "\n"
     ]
    }
   ],
   "source": [
    "spark.sql('select count(*) from health_tracker group by device_id').show()"
   ]
  },
  {
   "cell_type": "code",
   "execution_count": 8,
   "metadata": {},
   "outputs": [
    {
     "name": "stdout",
     "output_type": "stream",
     "text": [
      "+--------------+\n",
      "|          name|\n",
      "+--------------+\n",
      "|     Sam Knopp|\n",
      "|     James Hou|\n",
      "|   Minh Nguyen|\n",
      "|Kristin Vasser|\n",
      "|Deborah Powell|\n",
      "+--------------+\n",
      "\n"
     ]
    }
   ],
   "source": [
    "spark.sql('select distinct(name) from health_tracker').show()"
   ]
  },
  {
   "cell_type": "code",
   "execution_count": 10,
   "metadata": {},
   "outputs": [],
   "source": [
    "df.write.format(\"delta\").save(\"hdfs://192.168.33.10:9000/user/chell/delta/health_tracker\")"
   ]
  },
  {
   "cell_type": "code",
   "execution_count": 11,
   "metadata": {},
   "outputs": [
    {
     "name": "stdout",
     "output_type": "stream",
     "text": [
      "+---------+---------------+--------------+-----------+\n",
      "|device_id|      heartrate|          name|       time|\n",
      "+---------+---------------+--------------+-----------+\n",
      "|        0|  59.5983072868|Deborah Powell|1.5805152E9|\n",
      "|        0|  59.9219739261|Deborah Powell|1.5805188E9|\n",
      "|        0|  59.7987826062|Deborah Powell|1.5805224E9|\n",
      "|        0|-242.4385474839|Deborah Powell| 1.580526E9|\n",
      "|        0|  59.8530605429|Deborah Powell|1.5805296E9|\n",
      "|        0|   59.703368422|Deborah Powell|1.5805332E9|\n",
      "|        0|  59.3571792974|Deborah Powell|1.5805368E9|\n",
      "|        0|  59.0055352097|Deborah Powell|1.5805404E9|\n",
      "|        0|  97.9032899191|Deborah Powell| 1.580544E9|\n",
      "|        0|  97.8397762186|Deborah Powell|1.5805476E9|\n",
      "|        0|  98.1640570195|Deborah Powell|1.5805512E9|\n",
      "|        0|  98.4325338981|Deborah Powell|1.5805548E9|\n",
      "|        0| 102.0399388866|Deborah Powell|1.5805584E9|\n",
      "|        0|  98.9041405851|Deborah Powell| 1.580562E9|\n",
      "|        0|  99.0669166475|Deborah Powell|1.5805656E9|\n",
      "|        0|  98.6317196237|Deborah Powell|1.5805692E9|\n",
      "|        0|-234.8905454105|Deborah Powell|1.5805728E9|\n",
      "|        0|  99.6693956652|Deborah Powell|1.5805764E9|\n",
      "|        0| 100.8174200832|Deborah Powell|  1.58058E9|\n",
      "|        0|  98.8555870771|Deborah Powell|1.5805836E9|\n",
      "+---------+---------------+--------------+-----------+\n",
      "only showing top 20 rows\n",
      "\n"
     ]
    }
   ],
   "source": [
    "spark.read.format(\"delta\").load(\"hdfs://192.168.33.10:9000/user/chell/delta/health_tracker\").show()"
   ]
  },
  {
   "cell_type": "code",
   "execution_count": null,
   "metadata": {},
   "outputs": [],
   "source": [
    "spark.stop()"
   ]
  }
 ],
 "metadata": {
  "kernelspec": {
   "display_name": "Python 3",
   "language": "python",
   "name": "python3"
  },
  "language_info": {
   "codemirror_mode": {
    "name": "ipython",
    "version": 3
   },
   "file_extension": ".py",
   "mimetype": "text/x-python",
   "name": "python",
   "nbconvert_exporter": "python",
   "pygments_lexer": "ipython3",
   "version": "3.7.6"
  }
 },
 "nbformat": 4,
 "nbformat_minor": 4
}
